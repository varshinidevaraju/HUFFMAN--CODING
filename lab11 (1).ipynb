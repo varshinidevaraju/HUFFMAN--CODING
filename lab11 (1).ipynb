{
 "cells": [
  {
   "cell_type": "code",
   "execution_count": 2,
   "id": "4c2356f7-e5e5-4872-80c3-8e6a195a8877",
   "metadata": {},
   "outputs": [
    {
     "name": "stdin",
     "output_type": "stream",
     "text": [
      "Enter a string to encode:  SAVEETHA ENGINEERING COLLEGE\n"
     ]
    }
   ],
   "source": [
    "import heapq\n",
    "from collections import defaultdict\n",
    "string = input(\"Enter a string to encode: \")"
   ]
  },
  {
   "cell_type": "code",
   "execution_count": 3,
   "id": "0f3e591f-6f29-48a2-9521-8413f9897277",
   "metadata": {},
   "outputs": [],
   "source": [
    "class NodeTree(object):\n",
    "    def __init__(self, char, freq):\n",
    "        self.char = char  \n",
    "        self.freq = freq  \n",
    "        self.left = None   \n",
    "        self.right = None  \n",
    "    def __lt__(self, other):\n",
    "        return self.freq < other.freq"
   ]
  },
  {
   "cell_type": "code",
   "execution_count": 4,
   "id": "0cdb0118-d9a8-43e2-9445-daeb03fa925d",
   "metadata": {},
   "outputs": [],
   "source": [
    "def huffman_code_tree(node, left=True, binString=''):\n",
    "    if node is None:\n",
    "        return {}\n",
    "    if node.char is not None:\n",
    "        return {node.char: binString}\n",
    "    huffman_codes = {}\n",
    "    huffman_codes.update(huffman_code_tree(node.left, left=True, binString=binString + '0'))\n",
    "    huffman_codes.update(huffman_code_tree(node.right, left=False, binString=binString + '1'))\n",
    "    return huffman_codes"
   ]
  },
  {
   "cell_type": "code",
   "execution_count": 5,
   "id": "678f5668-b09b-4c0d-98cb-bd83200dcf1b",
   "metadata": {},
   "outputs": [],
   "source": [
    "freq = defaultdict(int)\n",
    "for char in string:\n",
    "    freq[char] += 1\n",
    "heap = []\n",
    "for char, freq_value in freq.items():\n",
    "    heapq.heappush(heap, NodeTree(char, freq_value))\n",
    "while len(heap) > 1:\n",
    "    left = heapq.heappop(heap)\n",
    "    right = heapq.heappop(heap)\n",
    "    merged = NodeTree(None, left.freq + right.freq)\n",
    "    merged.left = left\n",
    "    merged.right = right\n",
    "    heapq.heappush(heap, merged)"
   ]
  },
  {
   "cell_type": "code",
   "execution_count": 6,
   "id": "c3f56c55-41fd-40c8-86fb-99f992373538",
   "metadata": {},
   "outputs": [
    {
     "name": "stdout",
     "output_type": "stream",
     "text": [
      " Char | Huffman code \n",
      "----------------------\n",
      " R  | 0000\n",
      "    | 0001\n",
      " G  | 001\n",
      " N  | 010\n",
      " S  | 01100\n",
      " V  | 01101\n",
      " C  | 01110\n",
      " T  | 01111\n",
      " E  | 10\n",
      " H  | 11000\n",
      " O  | 11001\n",
      " L  | 1101\n",
      " A  | 1110\n",
      " I  | 1111\n"
     ]
    }
   ],
   "source": [
    "root = heap[0]\n",
    "huffmanCode = huffman_code_tree(root)\n",
    "print(\" Char | Huffman code \")\n",
    "print(\"----------------------\")\n",
    "for char, code in huffmanCode.items():\n",
    "    print(f\" {char}  | {code}\")"
   ]
  },
  {
   "cell_type": "code",
   "execution_count": null,
   "id": "0060795e-5b3f-4e14-ab6d-0fcc4141bafd",
   "metadata": {},
   "outputs": [],
   "source": []
  }
 ],
 "metadata": {
  "kernelspec": {
   "display_name": "Python 3 (ipykernel)",
   "language": "python",
   "name": "python3"
  },
  "language_info": {
   "codemirror_mode": {
    "name": "ipython",
    "version": 3
   },
   "file_extension": ".py",
   "mimetype": "text/x-python",
   "name": "python",
   "nbconvert_exporter": "python",
   "pygments_lexer": "ipython3",
   "version": "3.11.11"
  }
 },
 "nbformat": 4,
 "nbformat_minor": 5
}
